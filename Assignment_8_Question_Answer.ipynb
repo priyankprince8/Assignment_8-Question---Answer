{
  "nbformat": 4,
  "nbformat_minor": 0,
  "metadata": {
    "colab": {
      "provenance": []
    },
    "kernelspec": {
      "name": "python3",
      "display_name": "Python 3"
    },
    "language_info": {
      "name": "python"
    }
  },
  "cells": [
    {
      "cell_type": "code",
      "execution_count": 3,
      "metadata": {
        "colab": {
          "base_uri": "https://localhost:8080/"
        },
        "id": "7gcVUXg96z7s",
        "outputId": "824346dc-b919-4957-ddcb-9953ee212a59"
      },
      "outputs": [
        {
          "output_type": "stream",
          "name": "stdout",
          "text": [
            "231\n"
          ]
        }
      ],
      "source": [
        "#Question 1\n",
        "def minimumDeleteSum(s1, s2):\n",
        "    m, n = len(s1), len(s2)\n",
        "\n",
        "\n",
        "    dp = [[0] * (n + 1) for _ in range(m + 1)]\n",
        "\n",
        "\n",
        "    for i in range(m):\n",
        "        for j in range(n):\n",
        "            if s1[i] == s2[j]:\n",
        "                dp[i+1][j+1] = dp[i][j] + ord(s1[i])\n",
        "            else:\n",
        "                dp[i+1][j+1] = max(dp[i][j+1], dp[i+1][j])\n",
        "\n",
        "\n",
        "    lcs_length = dp[m][n]\n",
        "\n",
        "\n",
        "    sum_ascii_s1 = sum(ord(ch) for ch in s1)\n",
        "    sum_ascii_s2 = sum(ord(ch) for ch in s2)\n",
        "    lowest_sum = sum_ascii_s1 + sum_ascii_s2 - (2 * lcs_length)\n",
        "\n",
        "    return lowest_sum\n",
        "\n",
        "s1 = \"sea\"\n",
        "s2 = \"eat\"\n",
        "print(minimumDeleteSum(s1, s2))\n",
        "\n"
      ]
    },
    {
      "cell_type": "code",
      "source": [
        "#Question 2\n",
        "def Valid(s):\n",
        "    stack = []\n",
        "\n",
        "    for c in s:\n",
        "        if c == '(' or c == '*':\n",
        "            stack.append(c)\n",
        "        elif c == ')':\n",
        "            if stack and (stack[-1] == '(' or stack[-1] == '*'):\n",
        "                stack.pop()\n",
        "            else:\n",
        "                return False\n",
        "\n",
        "    while stack:\n",
        "        if stack[-1] == '(' or stack[-1] == '*':\n",
        "            stack.pop()\n",
        "        else:\n",
        "            return False\n",
        "\n",
        "    return True\n"
      ],
      "metadata": {
        "id": "twlzRdHg7Nf6"
      },
      "execution_count": 4,
      "outputs": []
    },
    {
      "cell_type": "code",
      "source": [
        "s = \"()\"\n",
        "print(Valid(s))\n",
        "\n"
      ],
      "metadata": {
        "colab": {
          "base_uri": "https://localhost:8080/"
        },
        "id": "IwCJcemL76AI",
        "outputId": "e67adc4a-141d-4431-a330-465ef1d38365"
      },
      "execution_count": 6,
      "outputs": [
        {
          "output_type": "stream",
          "name": "stdout",
          "text": [
            "True\n"
          ]
        }
      ]
    },
    {
      "cell_type": "code",
      "source": [
        "#Question 3\n",
        "def minDistance(word1, word2):\n",
        "    m, n = len(word1), len(word2)\n",
        "\n",
        "\n",
        "    dp = [[0] * (n + 1) for _ in range(m + 1)]\n",
        "\n",
        "\n",
        "    for i in range(m):\n",
        "        for j in range(n):\n",
        "            if word1[i] == word2[j]:\n",
        "                dp[i+1][j+1] = dp[i][j] + 1\n",
        "            else:\n",
        "                dp[i+1][j+1] = max(dp[i][j+1], dp[i+1][j])\n",
        "\n",
        "\n",
        "    lcs_length = dp[m][n]\n",
        "\n",
        "\n",
        "    min_steps = m + n - (2 * lcs_length)\n",
        "\n",
        "    return min_steps\n"
      ],
      "metadata": {
        "id": "DOfPC1NL8EwC"
      },
      "execution_count": 9,
      "outputs": []
    },
    {
      "cell_type": "code",
      "source": [
        "word1 = \"sea\"\n",
        "word2 = \"eat\"\n",
        "print(minDistance(word1, word2))  # Output: 2\n",
        "\n",
        "\n"
      ],
      "metadata": {
        "colab": {
          "base_uri": "https://localhost:8080/"
        },
        "id": "t1GSKzrs8yHu",
        "outputId": "62a88536-e7f6-4718-8a31-2b54b23f558a"
      },
      "execution_count": 19,
      "outputs": [
        {
          "output_type": "stream",
          "name": "stdout",
          "text": [
            "2\n"
          ]
        }
      ]
    },
    {
      "cell_type": "code",
      "source": [
        "#Question 5\n",
        "def compress(chars):\n",
        "    write = 0\n",
        "    read = 0\n",
        "    count = 1\n",
        "\n",
        "    while read < len(chars):\n",
        "        if read + 1 == len(chars) or chars[read] != chars[read + 1]:\n",
        "            chars[write] = chars[read]\n",
        "            write += 1\n",
        "\n",
        "            if count > 1:\n",
        "                count_str = str(count)\n",
        "                for digit in count_str:\n",
        "                    chars[write] = digit\n",
        "                    write += 1\n",
        "\n",
        "            count = 1\n",
        "        else:\n",
        "            count += 1\n",
        "\n",
        "        read += 1\n",
        "\n",
        "    return write\n"
      ],
      "metadata": {
        "id": "kZ5t7-HD-suX"
      },
      "execution_count": 20,
      "outputs": []
    },
    {
      "cell_type": "code",
      "source": [
        "chars = ['a', 'a', 'b', 'b', 'c', 'c', 'c']\n",
        "new_length = compress(chars)\n",
        "print(new_length)\n",
        "print(chars[:new_length])\n"
      ],
      "metadata": {
        "colab": {
          "base_uri": "https://localhost:8080/"
        },
        "id": "TCt_ARX3-9JU",
        "outputId": "4978aabd-b64b-4ed2-cce5-99a391cda7bd"
      },
      "execution_count": 22,
      "outputs": [
        {
          "output_type": "stream",
          "name": "stdout",
          "text": [
            "6\n",
            "['a', '2', 'b', '2', 'c', '3']\n"
          ]
        }
      ]
    },
    {
      "cell_type": "code",
      "source": [
        "#Question 6\n",
        "from collections import defaultdict\n",
        "\n",
        "def findAnagrams(s, p):\n",
        "    result = []\n",
        "    p_freq = defaultdict(int)\n",
        "    window_freq = defaultdict(int)\n",
        "\n",
        "\n",
        "    for char in p:\n",
        "        p_freq[char] += 1\n",
        "\n",
        "    left = 0\n",
        "    right = 0\n",
        "\n",
        "    while right < len(s):\n",
        "\n",
        "        window_freq[s[right]] += 1\n",
        "\n",
        "\n",
        "        if right - left + 1 > len(p):\n",
        "            window_freq[s[left]] -= 1\n",
        "            if window_freq[s[left]] == 0:\n",
        "                del window_freq[s[left]]\n",
        "            left += 1\n",
        "\n",
        "\n",
        "        if window_freq == p_freq:\n",
        "            result.append(left)\n",
        "\n",
        "        right += 1\n",
        "\n",
        "    return result\n"
      ],
      "metadata": {
        "id": "HDUAGCvW-_Sc"
      },
      "execution_count": 25,
      "outputs": []
    },
    {
      "cell_type": "code",
      "source": [
        "s = \"cbaebabacd\"\n",
        "p = \"abc\"\n",
        "indices = findAnagrams(s, p)\n",
        "print(indices)\n"
      ],
      "metadata": {
        "colab": {
          "base_uri": "https://localhost:8080/"
        },
        "id": "kW7Cbq5g_Ugi",
        "outputId": "614198f9-aa77-407d-ec9c-c9739351612d"
      },
      "execution_count": 26,
      "outputs": [
        {
          "output_type": "stream",
          "name": "stdout",
          "text": [
            "[0, 6]\n"
          ]
        }
      ]
    },
    {
      "cell_type": "code",
      "source": [
        "#Question 7\n",
        "def decodeString(s):\n",
        "    stack = []\n",
        "    for c in s:\n",
        "        if c == ']':\n",
        "            substring = ''\n",
        "            while stack[-1] != '[':\n",
        "                substring = stack.pop() + substring\n",
        "            stack.pop()\n",
        "            repeat = ''\n",
        "            while stack and stack[-1].isdigit():\n",
        "                repeat = stack.pop() + repeat\n",
        "            repeat = int(repeat)\n",
        "            decoded_substring = substring * repeat\n",
        "            stack.append(decoded_substring)\n",
        "        else:\n",
        "            stack.append(c)\n",
        "    return ''.join(stack)\n"
      ],
      "metadata": {
        "id": "zv7QAjY5_W4b"
      },
      "execution_count": 29,
      "outputs": []
    },
    {
      "cell_type": "code",
      "source": [
        "encoded_string = \"3[a]2[bc]\"\n",
        "decoded_string = decodeString(encoded_string)\n",
        "print(decoded_string)\n"
      ],
      "metadata": {
        "colab": {
          "base_uri": "https://localhost:8080/"
        },
        "id": "bM5gq6pN_vMU",
        "outputId": "0a4b7768-7ec9-4c9a-fea2-5bf7905d7c03"
      },
      "execution_count": 30,
      "outputs": [
        {
          "output_type": "stream",
          "name": "stdout",
          "text": [
            "aaabcbc\n"
          ]
        }
      ]
    },
    {
      "cell_type": "code",
      "source": [
        "#Question 8\n",
        "def canBeEqual(s, goal):\n",
        "    if len(s) != len(goal):\n",
        "        return False\n",
        "\n",
        "    mismatch_indices = []\n",
        "    mismatch_chars = []\n",
        "\n",
        "    for i in range(len(s)):\n",
        "        if s[i] != goal[i]:\n",
        "            mismatch_indices.append(i)\n",
        "            mismatch_chars.append((s[i], goal[i]))\n",
        "\n",
        "    if len(mismatch_indices) != 2:\n",
        "        return False\n",
        "\n",
        "    char1, char2 = mismatch_chars\n",
        "    if char1 == char2[::-1]:\n",
        "        return True\n",
        "\n",
        "    return False\n"
      ],
      "metadata": {
        "id": "SKymkBeh_xis"
      },
      "execution_count": 31,
      "outputs": []
    },
    {
      "cell_type": "code",
      "source": [
        "s = \"ab\"\n",
        "goal = \"ba\"\n",
        "print(canBeEqual(s, goal))\n",
        "\n"
      ],
      "metadata": {
        "colab": {
          "base_uri": "https://localhost:8080/"
        },
        "id": "-kzmW_Cf__4n",
        "outputId": "4d43aa6d-8963-44bd-f29f-519c5268f201"
      },
      "execution_count": 33,
      "outputs": [
        {
          "output_type": "stream",
          "name": "stdout",
          "text": [
            "True\n"
          ]
        }
      ]
    },
    {
      "cell_type": "code",
      "source": [],
      "metadata": {
        "id": "bReBx3NtAIEm"
      },
      "execution_count": null,
      "outputs": []
    }
  ]
}